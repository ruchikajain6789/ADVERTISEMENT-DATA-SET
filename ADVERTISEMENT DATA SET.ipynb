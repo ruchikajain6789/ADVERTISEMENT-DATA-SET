{
 "cells": [
  {
   "cell_type": "code",
   "execution_count": 10,
   "metadata": {},
   "outputs": [],
   "source": [
    "import warnings\n",
    "warnings.filterwarnings('ignore')\n",
    "import pandas as pd\n",
    "import numpy as np"
   ]
  },
  {
   "cell_type": "code",
   "execution_count": 11,
   "metadata": {},
   "outputs": [
    {
     "data": {
      "text/html": [
       "<div>\n",
       "<style scoped>\n",
       "    .dataframe tbody tr th:only-of-type {\n",
       "        vertical-align: middle;\n",
       "    }\n",
       "\n",
       "    .dataframe tbody tr th {\n",
       "        vertical-align: top;\n",
       "    }\n",
       "\n",
       "    .dataframe thead th {\n",
       "        text-align: right;\n",
       "    }\n",
       "</style>\n",
       "<table border=\"1\" class=\"dataframe\">\n",
       "  <thead>\n",
       "    <tr style=\"text-align: right;\">\n",
       "      <th></th>\n",
       "      <th>VistID</th>\n",
       "      <th>Time_Spent</th>\n",
       "      <th>Age</th>\n",
       "      <th>Avg_Income</th>\n",
       "      <th>Internet_Usage</th>\n",
       "      <th>Ad_Topic</th>\n",
       "      <th>Country_Name</th>\n",
       "      <th>City_code</th>\n",
       "      <th>Male</th>\n",
       "      <th>Time_Period</th>\n",
       "      <th>Weekday</th>\n",
       "      <th>Month</th>\n",
       "      <th>Year</th>\n",
       "      <th>Clicked</th>\n",
       "    </tr>\n",
       "  </thead>\n",
       "  <tbody>\n",
       "    <tr>\n",
       "      <th>0</th>\n",
       "      <td>5183153</td>\n",
       "      <td>87.97</td>\n",
       "      <td>43</td>\n",
       "      <td>55901.12</td>\n",
       "      <td>185.46</td>\n",
       "      <td>product_11</td>\n",
       "      <td>Serbia</td>\n",
       "      <td>City_5</td>\n",
       "      <td>No</td>\n",
       "      <td>Mid-Night</td>\n",
       "      <td>Thursday</td>\n",
       "      <td>July</td>\n",
       "      <td>2020</td>\n",
       "      <td>0</td>\n",
       "    </tr>\n",
       "    <tr>\n",
       "      <th>1</th>\n",
       "      <td>4023265</td>\n",
       "      <td>51.63</td>\n",
       "      <td>50</td>\n",
       "      <td>39132.00</td>\n",
       "      <td>176.73</td>\n",
       "      <td>product_8</td>\n",
       "      <td>Turkmenistan</td>\n",
       "      <td>City_1</td>\n",
       "      <td>No</td>\n",
       "      <td>Evening</td>\n",
       "      <td>Saturday</td>\n",
       "      <td>June</td>\n",
       "      <td>2020</td>\n",
       "      <td>1</td>\n",
       "    </tr>\n",
       "    <tr>\n",
       "      <th>2</th>\n",
       "      <td>4708083</td>\n",
       "      <td>82.37</td>\n",
       "      <td>38</td>\n",
       "      <td>57032.36</td>\n",
       "      <td>210.60</td>\n",
       "      <td>product_6</td>\n",
       "      <td>Northern Mariana Islands</td>\n",
       "      <td>City_2</td>\n",
       "      <td>No</td>\n",
       "      <td>Morning</td>\n",
       "      <td>Tuesday</td>\n",
       "      <td>January</td>\n",
       "      <td>2020</td>\n",
       "      <td>0</td>\n",
       "    </tr>\n",
       "    <tr>\n",
       "      <th>3</th>\n",
       "      <td>9771815</td>\n",
       "      <td>62.06</td>\n",
       "      <td>45</td>\n",
       "      <td>48868.00</td>\n",
       "      <td>190.05</td>\n",
       "      <td>product_19</td>\n",
       "      <td>South Africa</td>\n",
       "      <td>City_3</td>\n",
       "      <td>Yes</td>\n",
       "      <td>Morning</td>\n",
       "      <td>Thursday</td>\n",
       "      <td>April</td>\n",
       "      <td>2020</td>\n",
       "      <td>1</td>\n",
       "    </tr>\n",
       "    <tr>\n",
       "      <th>4</th>\n",
       "      <td>6451317</td>\n",
       "      <td>77.66</td>\n",
       "      <td>31</td>\n",
       "      <td>61608.23</td>\n",
       "      <td>204.86</td>\n",
       "      <td>product_11</td>\n",
       "      <td>Guadeloupe</td>\n",
       "      <td>City_2</td>\n",
       "      <td>No</td>\n",
       "      <td>Noon</td>\n",
       "      <td>Thursday</td>\n",
       "      <td>January</td>\n",
       "      <td>2020</td>\n",
       "      <td>0</td>\n",
       "    </tr>\n",
       "  </tbody>\n",
       "</table>\n",
       "</div>"
      ],
      "text/plain": [
       "    VistID  Time_Spent  Age  Avg_Income  Internet_Usage    Ad_Topic  \\\n",
       "0  5183153       87.97   43    55901.12          185.46  product_11   \n",
       "1  4023265       51.63   50    39132.00          176.73   product_8   \n",
       "2  4708083       82.37   38    57032.36          210.60   product_6   \n",
       "3  9771815       62.06   45    48868.00          190.05  product_19   \n",
       "4  6451317       77.66   31    61608.23          204.86  product_11   \n",
       "\n",
       "               Country_Name City_code Male Time_Period   Weekday    Month  \\\n",
       "0                    Serbia    City_5   No   Mid-Night  Thursday     July   \n",
       "1              Turkmenistan    City_1   No     Evening  Saturday     June   \n",
       "2  Northern Mariana Islands    City_2   No     Morning   Tuesday  January   \n",
       "3              South Africa    City_3  Yes     Morning  Thursday    April   \n",
       "4                Guadeloupe    City_2   No        Noon  Thursday  January   \n",
       "\n",
       "   Year  Clicked  \n",
       "0  2020        0  \n",
       "1  2020        1  \n",
       "2  2020        0  \n",
       "3  2020        1  \n",
       "4  2020        0  "
      ]
     },
     "execution_count": 11,
     "metadata": {},
     "output_type": "execute_result"
    }
   ],
   "source": [
    "Advertise_data = pd.read_csv('C:/Users/Ruchika jain/OneDrive/Desktop/KAGGLE PROJECTS/Advertisement Click data set/Ad click data.csv',encoding='latin')\n",
    "Advertise_data.head()"
   ]
  },
  {
   "cell_type": "code",
   "execution_count": 12,
   "metadata": {},
   "outputs": [
    {
     "data": {
      "text/plain": [
       "(6657, 14)"
      ]
     },
     "execution_count": 12,
     "metadata": {},
     "output_type": "execute_result"
    }
   ],
   "source": [
    "Advertise_data.shape"
   ]
  },
  {
   "cell_type": "code",
   "execution_count": 13,
   "metadata": {},
   "outputs": [
    {
     "data": {
      "text/plain": [
       "(6657, 14)"
      ]
     },
     "execution_count": 13,
     "metadata": {},
     "output_type": "execute_result"
    }
   ],
   "source": [
    " Advertise_data= Advertise_data.drop_duplicates()\n",
    "Advertise_data.shape"
   ]
  },
  {
   "cell_type": "code",
   "execution_count": 14,
   "metadata": {},
   "outputs": [
    {
     "data": {
      "text/plain": [
       "<matplotlib.axes._subplots.AxesSubplot at 0x1da7abb1dc8>"
      ]
     },
     "execution_count": 14,
     "metadata": {},
     "output_type": "execute_result"
    },
    {
     "data": {
      "image/png": "[encoded data removed]",
      "text/plain": [
       "<Figure size 432x288 with 1 Axes>"
      ]
     },
     "metadata": {
      "needs_background": "light"
     },
     "output_type": "display_data"
    }
   ],
   "source": [
    "Advertise_data['Clicked'].hist()"
   ]
  },
  {
   "cell_type": "code",
   "execution_count": 15,
   "metadata": {},
   "outputs": [
    {
     "name": "stdout",
     "output_type": "stream",
     "text": [
      "<class 'pandas.core.frame.DataFrame'>\n",
      "Int64Index: 6657 entries, 0 to 6656\n",
      "Data columns (total 14 columns):\n",
      " #   Column          Non-Null Count  Dtype  \n",
      "---  ------          --------------  -----  \n",
      " 0   VistID          6657 non-null   int64  \n",
      " 1   Time_Spent      6657 non-null   float64\n",
      " 2   Age             6657 non-null   int64  \n",
      " 3   Avg_Income      6657 non-null   float64\n",
      " 4   Internet_Usage  6657 non-null   float64\n",
      " 5   Ad_Topic        6657 non-null   object \n",
      " 6   Country_Name    6657 non-null   object \n",
      " 7   City_code       6657 non-null   object \n",
      " 8   Male            6657 non-null   object \n",
      " 9   Time_Period     6657 non-null   object \n",
      " 10  Weekday         6657 non-null   object \n",
      " 11  Month           6657 non-null   object \n",
      " 12  Year            6657 non-null   int64  \n",
      " 13  Clicked         6657 non-null   int64  \n",
      "dtypes: float64(3), int64(4), object(7)\n",
      "memory usage: 780.1+ KB\n"
     ]
    }
   ],
   "source": [
    "Advertise_data.info()"
   ]
  },
  {
   "cell_type": "code",
   "execution_count": 16,
   "metadata": {},
   "outputs": [
    {
     "data": {
      "text/html": [
       "<div>\n",
       "<style scoped>\n",
       "    .dataframe tbody tr th:only-of-type {\n",
       "        vertical-align: middle;\n",
       "    }\n",
       "\n",
       "    .dataframe tbody tr th {\n",
       "        vertical-align: top;\n",
       "    }\n",
       "\n",
       "    .dataframe thead th {\n",
       "        text-align: right;\n",
       "    }\n",
       "</style>\n",
       "<table border=\"1\" class=\"dataframe\">\n",
       "  <thead>\n",
       "    <tr style=\"text-align: right;\">\n",
       "      <th></th>\n",
       "      <th>VistID</th>\n",
       "      <th>Time_Spent</th>\n",
       "      <th>Age</th>\n",
       "      <th>Avg_Income</th>\n",
       "      <th>Internet_Usage</th>\n",
       "      <th>Year</th>\n",
       "      <th>Clicked</th>\n",
       "    </tr>\n",
       "  </thead>\n",
       "  <tbody>\n",
       "    <tr>\n",
       "      <th>count</th>\n",
       "      <td>6.657000e+03</td>\n",
       "      <td>6657.000000</td>\n",
       "      <td>6657.000000</td>\n",
       "      <td>6657.000000</td>\n",
       "      <td>6657.000000</td>\n",
       "      <td>6657.0</td>\n",
       "      <td>6657.000000</td>\n",
       "    </tr>\n",
       "    <tr>\n",
       "      <th>mean</th>\n",
       "      <td>5.542115e+06</td>\n",
       "      <td>66.849548</td>\n",
       "      <td>37.258825</td>\n",
       "      <td>55930.486743</td>\n",
       "      <td>184.947684</td>\n",
       "      <td>2020.0</td>\n",
       "      <td>0.456362</td>\n",
       "    </tr>\n",
       "    <tr>\n",
       "      <th>std</th>\n",
       "      <td>2.596284e+06</td>\n",
       "      <td>15.509672</td>\n",
       "      <td>10.995458</td>\n",
       "      <td>13110.339257</td>\n",
       "      <td>43.189896</td>\n",
       "      <td>0.0</td>\n",
       "      <td>0.498129</td>\n",
       "    </tr>\n",
       "    <tr>\n",
       "      <th>min</th>\n",
       "      <td>1.000187e+06</td>\n",
       "      <td>32.600000</td>\n",
       "      <td>19.000000</td>\n",
       "      <td>13996.500000</td>\n",
       "      <td>104.780000</td>\n",
       "      <td>2020.0</td>\n",
       "      <td>0.000000</td>\n",
       "    </tr>\n",
       "    <tr>\n",
       "      <th>25%</th>\n",
       "      <td>3.307428e+06</td>\n",
       "      <td>55.200000</td>\n",
       "      <td>28.000000</td>\n",
       "      <td>48454.000000</td>\n",
       "      <td>145.730000</td>\n",
       "      <td>2020.0</td>\n",
       "      <td>0.000000</td>\n",
       "    </tr>\n",
       "    <tr>\n",
       "      <th>50%</th>\n",
       "      <td>5.523907e+06</td>\n",
       "      <td>70.660000</td>\n",
       "      <td>36.000000</td>\n",
       "      <td>58183.000000</td>\n",
       "      <td>193.580000</td>\n",
       "      <td>2020.0</td>\n",
       "      <td>0.000000</td>\n",
       "    </tr>\n",
       "    <tr>\n",
       "      <th>75%</th>\n",
       "      <td>7.823942e+06</td>\n",
       "      <td>79.570000</td>\n",
       "      <td>46.000000</td>\n",
       "      <td>65957.000000</td>\n",
       "      <td>222.260000</td>\n",
       "      <td>2020.0</td>\n",
       "      <td>1.000000</td>\n",
       "    </tr>\n",
       "    <tr>\n",
       "      <th>max</th>\n",
       "      <td>9.999708e+06</td>\n",
       "      <td>91.430000</td>\n",
       "      <td>61.000000</td>\n",
       "      <td>79484.800000</td>\n",
       "      <td>269.960000</td>\n",
       "      <td>2020.0</td>\n",
       "      <td>1.000000</td>\n",
       "    </tr>\n",
       "  </tbody>\n",
       "</table>\n",
       "</div>"
      ],
      "text/plain": [
       "             VistID   Time_Spent          Age    Avg_Income  Internet_Usage  \\\n",
       "count  6.657000e+03  6657.000000  6657.000000   6657.000000     6657.000000   \n",
       "mean   5.542115e+06    66.849548    37.258825  55930.486743      184.947684   \n",
       "std    2.596284e+06    15.509672    10.995458  13110.339257       43.189896   \n",
       "min    1.000187e+06    32.600000    19.000000  13996.500000      104.780000   \n",
       "25%    3.307428e+06    55.200000    28.000000  48454.000000      145.730000   \n",
       "50%    5.523907e+06    70.660000    36.000000  58183.000000      193.580000   \n",
       "75%    7.823942e+06    79.570000    46.000000  65957.000000      222.260000   \n",
       "max    9.999708e+06    91.430000    61.000000  79484.800000      269.960000   \n",
       "\n",
       "         Year      Clicked  \n",
       "count  6657.0  6657.000000  \n",
       "mean   2020.0     0.456362  \n",
       "std       0.0     0.498129  \n",
       "min    2020.0     0.000000  \n",
       "25%    2020.0     0.000000  \n",
       "50%    2020.0     0.000000  \n",
       "75%    2020.0     1.000000  \n",
       "max    2020.0     1.000000  "
      ]
     },
     "execution_count": 16,
     "metadata": {},
     "output_type": "execute_result"
    }
   ],
   "source": [
    "Advertise_data.describe()"
   ]
  },
  {
   "cell_type": "code",
   "execution_count": 17,
   "metadata": {},
   "outputs": [
    {
     "data": {
      "text/plain": [
       "VistID            6657\n",
       "Time_Spent         900\n",
       "Age                 43\n",
       "Avg_Income        1487\n",
       "Internet_Usage     966\n",
       "Ad_Topic            30\n",
       "Country_Name       237\n",
       "City_code            9\n",
       "Male                 2\n",
       "Time_Period          6\n",
       "Weekday              7\n",
       "Month                7\n",
       "Year                 1\n",
       "Clicked              2\n",
       "dtype: int64"
      ]
     },
     "execution_count": 17,
     "metadata": {},
     "output_type": "execute_result"
    }
   ],
   "source": [
    "Advertise_data.nunique()"
   ]
  },
  {
   "cell_type": "markdown",
   "metadata": {},
   "source": [
    "\n",
    "VistID             Conti -reject\n",
    "Time_Spent         Conti - select\n",
    "Age                conti- select\n",
    "Avg_Income         conti- select\n",
    "Internet_Usage     conti - select\n",
    "Ad_Topic           conti - select\n",
    "Country_Name       conti - reject\n",
    "City_code            catego - select\n",
    "Male                 catego - select\n",
    "Time_Period          catego - select\n",
    "Weekday              catego - select\n",
    "Month                catego - select\n",
    "Year                 catego - reject\n",
    "Clicked              catego - select\n",
    "\n"
   ]
  },
  {
   "cell_type": "code",
   "execution_count": 18,
   "metadata": {},
   "outputs": [
    {
     "data": {
      "text/html": [
       "<div>\n",
       "<style scoped>\n",
       "    .dataframe tbody tr th:only-of-type {\n",
       "        vertical-align: middle;\n",
       "    }\n",
       "\n",
       "    .dataframe tbody tr th {\n",
       "        vertical-align: top;\n",
       "    }\n",
       "\n",
       "    .dataframe thead th {\n",
       "        text-align: right;\n",
       "    }\n",
       "</style>\n",
       "<table border=\"1\" class=\"dataframe\">\n",
       "  <thead>\n",
       "    <tr style=\"text-align: right;\">\n",
       "      <th></th>\n",
       "      <th>Time_Spent</th>\n",
       "      <th>Age</th>\n",
       "      <th>Avg_Income</th>\n",
       "      <th>Internet_Usage</th>\n",
       "      <th>Ad_Topic</th>\n",
       "      <th>City_code</th>\n",
       "      <th>Male</th>\n",
       "      <th>Time_Period</th>\n",
       "      <th>Weekday</th>\n",
       "      <th>Month</th>\n",
       "      <th>Clicked</th>\n",
       "    </tr>\n",
       "  </thead>\n",
       "  <tbody>\n",
       "    <tr>\n",
       "      <th>0</th>\n",
       "      <td>87.97</td>\n",
       "      <td>43</td>\n",
       "      <td>55901.12</td>\n",
       "      <td>185.46</td>\n",
       "      <td>product_11</td>\n",
       "      <td>City_5</td>\n",
       "      <td>No</td>\n",
       "      <td>Mid-Night</td>\n",
       "      <td>Thursday</td>\n",
       "      <td>July</td>\n",
       "      <td>0</td>\n",
       "    </tr>\n",
       "    <tr>\n",
       "      <th>1</th>\n",
       "      <td>51.63</td>\n",
       "      <td>50</td>\n",
       "      <td>39132.00</td>\n",
       "      <td>176.73</td>\n",
       "      <td>product_8</td>\n",
       "      <td>City_1</td>\n",
       "      <td>No</td>\n",
       "      <td>Evening</td>\n",
       "      <td>Saturday</td>\n",
       "      <td>June</td>\n",
       "      <td>1</td>\n",
       "    </tr>\n",
       "    <tr>\n",
       "      <th>2</th>\n",
       "      <td>82.37</td>\n",
       "      <td>38</td>\n",
       "      <td>57032.36</td>\n",
       "      <td>210.60</td>\n",
       "      <td>product_6</td>\n",
       "      <td>City_2</td>\n",
       "      <td>No</td>\n",
       "      <td>Morning</td>\n",
       "      <td>Tuesday</td>\n",
       "      <td>January</td>\n",
       "      <td>0</td>\n",
       "    </tr>\n",
       "    <tr>\n",
       "      <th>3</th>\n",
       "      <td>62.06</td>\n",
       "      <td>45</td>\n",
       "      <td>48868.00</td>\n",
       "      <td>190.05</td>\n",
       "      <td>product_19</td>\n",
       "      <td>City_3</td>\n",
       "      <td>Yes</td>\n",
       "      <td>Morning</td>\n",
       "      <td>Thursday</td>\n",
       "      <td>April</td>\n",
       "      <td>1</td>\n",
       "    </tr>\n",
       "    <tr>\n",
       "      <th>4</th>\n",
       "      <td>77.66</td>\n",
       "      <td>31</td>\n",
       "      <td>61608.23</td>\n",
       "      <td>204.86</td>\n",
       "      <td>product_11</td>\n",
       "      <td>City_2</td>\n",
       "      <td>No</td>\n",
       "      <td>Noon</td>\n",
       "      <td>Thursday</td>\n",
       "      <td>January</td>\n",
       "      <td>0</td>\n",
       "    </tr>\n",
       "  </tbody>\n",
       "</table>\n",
       "</div>"
      ],
      "text/plain": [
       "   Time_Spent  Age  Avg_Income  Internet_Usage    Ad_Topic City_code Male  \\\n",
       "0       87.97   43    55901.12          185.46  product_11    City_5   No   \n",
       "1       51.63   50    39132.00          176.73   product_8    City_1   No   \n",
       "2       82.37   38    57032.36          210.60   product_6    City_2   No   \n",
       "3       62.06   45    48868.00          190.05  product_19    City_3  Yes   \n",
       "4       77.66   31    61608.23          204.86  product_11    City_2   No   \n",
       "\n",
       "  Time_Period   Weekday    Month  Clicked  \n",
       "0   Mid-Night  Thursday     July        0  \n",
       "1     Evening  Saturday     June        1  \n",
       "2     Morning   Tuesday  January        0  \n",
       "3     Morning  Thursday    April        1  \n",
       "4        Noon  Thursday  January        0  "
      ]
     },
     "execution_count": 18,
     "metadata": {},
     "output_type": "execute_result"
    }
   ],
   "source": [
    "Advertise_data= Advertise_data.drop(['VistID','Country_Name','Year'], axis= 1)\n",
    "Advertise_data.head()"
   ]
  },
  {
   "cell_type": "code",
   "execution_count": 19,
   "metadata": {},
   "outputs": [
    {
     "data": {
      "image/png": "[encoded data removed]",
      "text/plain": [
       "<Figure size 432x288 with 1 Axes>"
      ]
     },
     "metadata": {
      "needs_background": "light"
     },
     "output_type": "display_data"
    }
   ],
   "source": [
    "import matplotlib.pyplot as plt\n",
    "import seaborn as sns\n",
    "sns.countplot(x= 'City_code',data= Advertise_data)\n",
    "plt.show()"
   ]
  },
  {
   "cell_type": "code",
   "execution_count": 20,
   "metadata": {},
   "outputs": [],
   "source": [
    "def plotbarchart(inpData, Colstoplot):\n",
    "    %matplotlib inline\n",
    "    \n",
    "    import matplotlib.pyplot as plt\n",
    "    \n",
    "    \n",
    "    fig, subplot = plt.subplots(nrows = 1, ncols= len(Colstoplot), figsize = (20,5))\n",
    "    # OR fig, subplot = plt.subplots(nrows= len(Colstoplot),ncols=1, figsize = (5,15))\n",
    "    fig.suptitle(\"bar chart of: \" + str(Colstoplot))\n",
    "    \n",
    "    for colnum, plotnum in zip (Colstoplot, range(len(Colstoplot))):\n",
    "        inpData.groupby(colnum).size().plot(kind='bar',ax= subplot[plotnum])\n",
    "        "
   ]
  },
  {
   "cell_type": "code",
   "execution_count": 21,
   "metadata": {},
   "outputs": [
    {
     "data": {
      "image/png": "[encoded data removed]",
      "text/plain": [
       "<Figure size 1440x360 with 6 Axes>"
      ]
     },
     "metadata": {
      "needs_background": "light"
     },
     "output_type": "display_data"
    }
   ],
   "source": [
    " plotbarchart(inpData=Advertise_data , Colstoplot= [\"Ad_Topic\",\"City_code\", \"Male\",\n",
    "                                               \"Time_Period\", \"Weekday\",\"Month\"])"
   ]
  },
  {
   "cell_type": "markdown",
   "metadata": {},
   "source": [
    "In this data, all the categorical columns have satisfactory distribution for machine learning."
   ]
  },
  {
   "cell_type": "code",
   "execution_count": 22,
   "metadata": {},
   "outputs": [
    {
     "data": {
      "text/plain": [
       "array([[<matplotlib.axes._subplots.AxesSubplot object at 0x000001DA7D350688>,\n",
       "        <matplotlib.axes._subplots.AxesSubplot object at 0x000001DA7D347CC8>],\n",
       "       [<matplotlib.axes._subplots.AxesSubplot object at 0x000001DA7D02F6C8>,\n",
       "        <matplotlib.axes._subplots.AxesSubplot object at 0x000001DA7D08DB88>]],\n",
       "      dtype=object)"
      ]
     },
     "execution_count": 22,
     "metadata": {},
     "output_type": "execute_result"
    },
    {
     "data": {
      "image/png": "[encoded data removed]",
      "text/plain": [
       "<Figure size 1296x720 with 4 Axes>"
      ]
     },
     "metadata": {
      "needs_background": "light"
     },
     "output_type": "display_data"
    }
   ],
   "source": [
    "Advertise_data.hist(['Time_Spent','Age','Avg_Income','Internet_Usage','Ad_Topic'],figsize=(18,10))"
   ]
  },
  {
   "cell_type": "markdown",
   "metadata": {},
   "source": [
    "The ideal outcome for histogram is a bell curve or slightly skewed bell curve. If there is too much skewness, then outlier treatment should be done and the column should be re-examined, if that also does not solve the problem then only reject the column."
   ]
  },
  {
   "cell_type": "code",
   "execution_count": 23,
   "metadata": {},
   "outputs": [
    {
     "data": {
      "text/plain": [
       "Time_Spent        0\n",
       "Age               0\n",
       "Avg_Income        0\n",
       "Internet_Usage    0\n",
       "Ad_Topic          0\n",
       "City_code         0\n",
       "Male              0\n",
       "Time_Period       0\n",
       "Weekday           0\n",
       "Month             0\n",
       "Clicked           0\n",
       "dtype: int64"
      ]
     },
     "execution_count": 23,
     "metadata": {},
     "output_type": "execute_result"
    }
   ],
   "source": [
    "Advertise_data.isnull().sum()"
   ]
  },
  {
   "cell_type": "markdown",
   "metadata": {},
   "source": [
    "Now its time to finally choose the best columns(Features) which are correlated to the Target variable. This can be done directly by measuring the correlation values or ANOVA/Chi-Square tests. However, it is always helpful to visualize the relation between the Target variable and each of the predictors to get a better sense of data\n"
   ]
  },
  {
   "cell_type": "markdown",
   "metadata": {},
   "source": [
    "Visual exploration of relationship between variables\n",
    "\n",
    "Continuous Vs Continuous ---- Scatter Plot\n",
    "\n",
    "Categorical Vs Continuous---- Box Plot\n",
    "\n",
    "Categorical Vs Categorical---- Grouped Bar Plots\n",
    "\n",
    "Statistical measurement of relationship strength between variables\n",
    "\n",
    "Continuous Vs Continuous ---- Correlation matrix\n",
    "\n",
    "Categorical Vs Continuous---- ANOVA test\n",
    "\n",
    "Categorical Vs Categorical--- Chi-Square test"
   ]
  },
  {
   "cell_type": "markdown",
   "metadata": {},
   "source": [
    "Relationship exploration: Categorical Vs Continuous -- Box Plots"
   ]
  },
  {
   "cell_type": "code",
   "execution_count": 24,
   "metadata": {},
   "outputs": [
    {
     "data": {
      "image/png": "[encoded data removed]",
      "text/plain": [
       "<Figure size 1296x360 with 4 Axes>"
      ]
     },
     "metadata": {
      "needs_background": "light"
     },
     "output_type": "display_data"
    }
   ],
   "source": [
    "ContinuousColList= ['Time_Spent','Age','Avg_Income','Internet_Usage']\n",
    "\n",
    "import matplotlib.pyplot as plt\n",
    "\n",
    "fig, subplot = plt.subplots(nrows= 1, ncols= len (ContinuousColList), figsize= (18,5))\n",
    "\n",
    "for i, plotnum in zip(ContinuousColList, range(len(ContinuousColList))):\n",
    "    Advertise_data.boxplot(column = i, by= 'Clicked', figsize= (18,5), vert= True, ax=subplot[plotnum])\n",
    "    \n",
    "\n"
   ]
  },
  {
   "cell_type": "markdown",
   "metadata": {},
   "source": [
    "If the distribution looks similar for each category(Boxes are in the same line), that means the the continuous variable has NO effect on the target variable. Hence, the variables are not correlated to each other. But here distribution are not similar"
   ]
  },
  {
   "cell_type": "markdown",
   "metadata": {},
   "source": [
    "Statistical Feature Selection (Categorical Vs Continuous) using ANOVA test"
   ]
  },
  {
   "cell_type": "code",
   "execution_count": 35,
   "metadata": {},
   "outputs": [],
   "source": [
    "def AnnovaResult(inpData, TargetVariable, ContinuousVariable):\n",
    "    from scipy.stats import f_oneway\n",
    "    \n",
    "    \n",
    "    selectedPred =[]\n",
    "    \n",
    "    for i in ContinuousVariable:\n",
    "        categolist = inpData.groupby(TargetVariable)[i].apply(list)\n",
    "        AnnovaResults= f_oneway(*categolist)\n",
    "        \n",
    "        \n",
    "        if (AnnovaResults[1]<0.05):\n",
    "            print(i, 'correlated with the target variable p value:',AnnovaResults[1])\n",
    "            selectedPred.append(i)\n",
    "        else:\n",
    "            print(i, 'not correlated with target variable p-value', AnnovaResults[1])\n",
    "            \n",
    "    return(selectedPred)\n",
    "            \n",
    "            \n",
    "        \n",
    "        "
   ]
  },
  {
   "cell_type": "code",
   "execution_count": 36,
   "metadata": {},
   "outputs": [
    {
     "name": "stdout",
     "output_type": "stream",
     "text": [
      "Time_Spent correlated with the target variable p value: 0.0\n",
      "Age correlated with the target variable p value: 6.40789044460054e-91\n",
      "Avg_Income correlated with the target variable p value: 0.0\n",
      "Internet_Usage correlated with the target variable p value: 0.0\n"
     ]
    },
    {
     "data": {
      "text/plain": [
       "['Time_Spent', 'Age', 'Avg_Income', 'Internet_Usage']"
      ]
     },
     "execution_count": 36,
     "metadata": {},
     "output_type": "execute_result"
    }
   ],
   "source": [
    "AnnovaResult(inpData=Advertise_data , TargetVariable='Clicked', ContinuousVariable= \n",
    "                                                                 ['Time_Spent','Age','Avg_Income','Internet_Usage'])\n"
   ]
  },
  {
   "cell_type": "markdown",
   "metadata": {},
   "source": [
    "Relationship exploration: Categorical Vs Categorical -- Grouped Bar Charts"
   ]
  },
  {
   "cell_type": "code",
   "execution_count": 27,
   "metadata": {},
   "outputs": [
    {
     "data": {
      "image/png": "[encoded data removed]",
      "text/plain": [
       "<Figure size 1080x4320 with 6 Axes>"
      ]
     },
     "metadata": {
      "needs_background": "light"
     },
     "output_type": "display_data"
    }
   ],
   "source": [
    "CategoricalList= [\"Ad_Topic\",\"City_code\", \"Male\", \"Time_Period\", \"Weekday\",\"Month\"]\n",
    "\n",
    "import matplotlib.pyplot as plt\n",
    "\n",
    "fig, subplot= plt.subplots(nrows= len(CategoricalList),figsize= (15,60))\n",
    "\n",
    "\n",
    "for colnum, plotnum in zip( CategoricalList, range(len(CategoricalList))):\n",
    "    crosstabResult= pd.crosstab(index= Advertise_data[colnum], columns= Advertise_data['Clicked'])\n",
    "    crosstabResult.plot.bar(ax= subplot[plotnum])"
   ]
  },
  {
   "cell_type": "markdown",
   "metadata": {},
   "source": [
    "\n",
    "These grouped bar charts show the frequency in the Y-Axis and the category in the X-Axis. If the ratio of bars is similar across all categories, then the two columns are not correlated."
   ]
  },
  {
   "cell_type": "markdown",
   "metadata": {},
   "source": [
    "Statistical Feature Selection (Categorical Vs Categorical) using Chi-Square Test"
   ]
  },
  {
   "cell_type": "code",
   "execution_count": 33,
   "metadata": {},
   "outputs": [],
   "source": [
    "def chisquare(inpData,TargetVariable, CategoriacalList):\n",
    "    from scipy.stats import chi2_contingency\n",
    "    \n",
    "    \n",
    "    selectedPred=[]\n",
    "    \n",
    "    for i in CategoricalList:\n",
    "        categolist = pd.crosstab(index= inpData[TargetVariable], columns=inpData[i])\n",
    "        chisqresult= chi2_contingency(categolist)\n",
    "        \n",
    "        \n",
    "        if(chisqresult[1] <0.05):\n",
    "            print( i,'it is correlated p value', chisqresult[1])\n",
    "            selectedPred.append(i)\n",
    "        else:\n",
    "            print(i, 'it is not  correlated p value', chisqresult[1])\n",
    "            \n",
    "    return(selectedPred)\n",
    "                  "
   ]
  },
  {
   "cell_type": "code",
   "execution_count": 34,
   "metadata": {},
   "outputs": [
    {
     "name": "stdout",
     "output_type": "stream",
     "text": [
      "Ad_Topic it is correlated p value 1.2676573604736464e-24\n",
      "City_code it is correlated p value 2.6667953391697526e-88\n",
      "Male it is correlated p value 0.02695171301745074\n",
      "Time_Period it is correlated p value 4.465745015735695e-47\n",
      "Weekday it is not  correlated p value 0.7226317326250824\n",
      "Month it is not  correlated p value 0.4229049097263303\n"
     ]
    },
    {
     "data": {
      "text/plain": [
       "['Ad_Topic', 'City_code', 'Male', 'Time_Period']"
      ]
     },
     "execution_count": 34,
     "metadata": {},
     "output_type": "execute_result"
    }
   ],
   "source": [
    "chisquare(inpData= Advertise_data,TargetVariable='Clicked', CategoriacalList=\n",
    "                                                        [\"Ad_Topic\",\"City_code\", \"Male\", \"Time_Period\", \"Weekday\",\"Month\"])"
   ]
  },
  {
   "cell_type": "code",
   "execution_count": 38,
   "metadata": {
    "scrolled": true
   },
   "outputs": [
    {
     "data": {
      "text/html": [
       "<div>\n",
       "<style scoped>\n",
       "    .dataframe tbody tr th:only-of-type {\n",
       "        vertical-align: middle;\n",
       "    }\n",
       "\n",
       "    .dataframe tbody tr th {\n",
       "        vertical-align: top;\n",
       "    }\n",
       "\n",
       "    .dataframe thead th {\n",
       "        text-align: right;\n",
       "    }\n",
       "</style>\n",
       "<table border=\"1\" class=\"dataframe\">\n",
       "  <thead>\n",
       "    <tr style=\"text-align: right;\">\n",
       "      <th></th>\n",
       "      <th>Time_Spent</th>\n",
       "      <th>Age</th>\n",
       "      <th>Avg_Income</th>\n",
       "      <th>Internet_Usage</th>\n",
       "      <th>Ad_Topic</th>\n",
       "      <th>City_code</th>\n",
       "      <th>Male</th>\n",
       "      <th>Time_Period</th>\n",
       "    </tr>\n",
       "  </thead>\n",
       "  <tbody>\n",
       "    <tr>\n",
       "      <th>0</th>\n",
       "      <td>87.97</td>\n",
       "      <td>43</td>\n",
       "      <td>55901.12</td>\n",
       "      <td>185.46</td>\n",
       "      <td>product_11</td>\n",
       "      <td>City_5</td>\n",
       "      <td>No</td>\n",
       "      <td>Mid-Night</td>\n",
       "    </tr>\n",
       "    <tr>\n",
       "      <th>1</th>\n",
       "      <td>51.63</td>\n",
       "      <td>50</td>\n",
       "      <td>39132.00</td>\n",
       "      <td>176.73</td>\n",
       "      <td>product_8</td>\n",
       "      <td>City_1</td>\n",
       "      <td>No</td>\n",
       "      <td>Evening</td>\n",
       "    </tr>\n",
       "    <tr>\n",
       "      <th>2</th>\n",
       "      <td>82.37</td>\n",
       "      <td>38</td>\n",
       "      <td>57032.36</td>\n",
       "      <td>210.60</td>\n",
       "      <td>product_6</td>\n",
       "      <td>City_2</td>\n",
       "      <td>No</td>\n",
       "      <td>Morning</td>\n",
       "    </tr>\n",
       "    <tr>\n",
       "      <th>3</th>\n",
       "      <td>62.06</td>\n",
       "      <td>45</td>\n",
       "      <td>48868.00</td>\n",
       "      <td>190.05</td>\n",
       "      <td>product_19</td>\n",
       "      <td>City_3</td>\n",
       "      <td>Yes</td>\n",
       "      <td>Morning</td>\n",
       "    </tr>\n",
       "    <tr>\n",
       "      <th>4</th>\n",
       "      <td>77.66</td>\n",
       "      <td>31</td>\n",
       "      <td>61608.23</td>\n",
       "      <td>204.86</td>\n",
       "      <td>product_11</td>\n",
       "      <td>City_2</td>\n",
       "      <td>No</td>\n",
       "      <td>Noon</td>\n",
       "    </tr>\n",
       "  </tbody>\n",
       "</table>\n",
       "</div>"
      ],
      "text/plain": [
       "   Time_Spent  Age  Avg_Income  Internet_Usage    Ad_Topic City_code Male  \\\n",
       "0       87.97   43    55901.12          185.46  product_11    City_5   No   \n",
       "1       51.63   50    39132.00          176.73   product_8    City_1   No   \n",
       "2       82.37   38    57032.36          210.60   product_6    City_2   No   \n",
       "3       62.06   45    48868.00          190.05  product_19    City_3  Yes   \n",
       "4       77.66   31    61608.23          204.86  product_11    City_2   No   \n",
       "\n",
       "  Time_Period  \n",
       "0   Mid-Night  \n",
       "1     Evening  \n",
       "2     Morning  \n",
       "3     Morning  \n",
       "4        Noon  "
      ]
     },
     "execution_count": 38,
     "metadata": {},
     "output_type": "execute_result"
    }
   ],
   "source": [
    "selectedPredictor= ['Time_Spent','Age','Avg_Income','Internet_Usage','Ad_Topic','City_code', 'Male', 'Time_Period']\n",
    "FinalData = Advertise_data[selectedPredictor]\n",
    "FinalData.head()"
   ]
  },
  {
   "cell_type": "code",
   "execution_count": 40,
   "metadata": {},
   "outputs": [
    {
     "data": {
      "text/html": [
       "<div>\n",
       "<style scoped>\n",
       "    .dataframe tbody tr th:only-of-type {\n",
       "        vertical-align: middle;\n",
       "    }\n",
       "\n",
       "    .dataframe tbody tr th {\n",
       "        vertical-align: top;\n",
       "    }\n",
       "\n",
       "    .dataframe thead th {\n",
       "        text-align: right;\n",
       "    }\n",
       "</style>\n",
       "<table border=\"1\" class=\"dataframe\">\n",
       "  <thead>\n",
       "    <tr style=\"text-align: right;\">\n",
       "      <th></th>\n",
       "      <th>Time_Spent</th>\n",
       "      <th>Age</th>\n",
       "      <th>Avg_Income</th>\n",
       "      <th>Internet_Usage</th>\n",
       "      <th>Ad_Topic</th>\n",
       "      <th>City_code</th>\n",
       "      <th>Male</th>\n",
       "      <th>Time_Period</th>\n",
       "    </tr>\n",
       "  </thead>\n",
       "  <tbody>\n",
       "    <tr>\n",
       "      <th>0</th>\n",
       "      <td>87.97</td>\n",
       "      <td>43</td>\n",
       "      <td>55901.12</td>\n",
       "      <td>185.46</td>\n",
       "      <td>product_11</td>\n",
       "      <td>City_5</td>\n",
       "      <td>0</td>\n",
       "      <td>Mid-Night</td>\n",
       "    </tr>\n",
       "    <tr>\n",
       "      <th>1</th>\n",
       "      <td>51.63</td>\n",
       "      <td>50</td>\n",
       "      <td>39132.00</td>\n",
       "      <td>176.73</td>\n",
       "      <td>product_8</td>\n",
       "      <td>City_1</td>\n",
       "      <td>0</td>\n",
       "      <td>Evening</td>\n",
       "    </tr>\n",
       "    <tr>\n",
       "      <th>2</th>\n",
       "      <td>82.37</td>\n",
       "      <td>38</td>\n",
       "      <td>57032.36</td>\n",
       "      <td>210.60</td>\n",
       "      <td>product_6</td>\n",
       "      <td>City_2</td>\n",
       "      <td>0</td>\n",
       "      <td>Morning</td>\n",
       "    </tr>\n",
       "    <tr>\n",
       "      <th>3</th>\n",
       "      <td>62.06</td>\n",
       "      <td>45</td>\n",
       "      <td>48868.00</td>\n",
       "      <td>190.05</td>\n",
       "      <td>product_19</td>\n",
       "      <td>City_3</td>\n",
       "      <td>1</td>\n",
       "      <td>Morning</td>\n",
       "    </tr>\n",
       "    <tr>\n",
       "      <th>4</th>\n",
       "      <td>77.66</td>\n",
       "      <td>31</td>\n",
       "      <td>61608.23</td>\n",
       "      <td>204.86</td>\n",
       "      <td>product_11</td>\n",
       "      <td>City_2</td>\n",
       "      <td>0</td>\n",
       "      <td>Noon</td>\n",
       "    </tr>\n",
       "  </tbody>\n",
       "</table>\n",
       "</div>"
      ],
      "text/plain": [
       "   Time_Spent  Age  Avg_Income  Internet_Usage    Ad_Topic City_code  Male  \\\n",
       "0       87.97   43    55901.12          185.46  product_11    City_5     0   \n",
       "1       51.63   50    39132.00          176.73   product_8    City_1     0   \n",
       "2       82.37   38    57032.36          210.60   product_6    City_2     0   \n",
       "3       62.06   45    48868.00          190.05  product_19    City_3     1   \n",
       "4       77.66   31    61608.23          204.86  product_11    City_2     0   \n",
       "\n",
       "  Time_Period  \n",
       "0   Mid-Night  \n",
       "1     Evening  \n",
       "2     Morning  \n",
       "3     Morning  \n",
       "4        Noon  "
      ]
     },
     "execution_count": 40,
     "metadata": {},
     "output_type": "execute_result"
    }
   ],
   "source": [
    "FinalData['Male'].replace({'Yes':1,'No':0},inplace= True)\n",
    "FinalData.head()"
   ]
  },
  {
   "cell_type": "code",
   "execution_count": 41,
   "metadata": {},
   "outputs": [
    {
     "data": {
      "text/html": [
       "<div>\n",
       "<style scoped>\n",
       "    .dataframe tbody tr th:only-of-type {\n",
       "        vertical-align: middle;\n",
       "    }\n",
       "\n",
       "    .dataframe tbody tr th {\n",
       "        vertical-align: top;\n",
       "    }\n",
       "\n",
       "    .dataframe thead th {\n",
       "        text-align: right;\n",
       "    }\n",
       "</style>\n",
       "<table border=\"1\" class=\"dataframe\">\n",
       "  <thead>\n",
       "    <tr style=\"text-align: right;\">\n",
       "      <th></th>\n",
       "      <th>Time_Spent</th>\n",
       "      <th>Age</th>\n",
       "      <th>Avg_Income</th>\n",
       "      <th>Internet_Usage</th>\n",
       "      <th>Male</th>\n",
       "      <th>Ad_Topic_product_1</th>\n",
       "      <th>Ad_Topic_product_10</th>\n",
       "      <th>Ad_Topic_product_11</th>\n",
       "      <th>Ad_Topic_product_12</th>\n",
       "      <th>Ad_Topic_product_13</th>\n",
       "      <th>...</th>\n",
       "      <th>City_code_City_7</th>\n",
       "      <th>City_code_City_8</th>\n",
       "      <th>City_code_City_9</th>\n",
       "      <th>Time_Period_Early-Morning</th>\n",
       "      <th>Time_Period_Evening</th>\n",
       "      <th>Time_Period_Mid-Night</th>\n",
       "      <th>Time_Period_Morning</th>\n",
       "      <th>Time_Period_Night</th>\n",
       "      <th>Time_Period_Noon</th>\n",
       "      <th>Clicked</th>\n",
       "    </tr>\n",
       "  </thead>\n",
       "  <tbody>\n",
       "    <tr>\n",
       "      <th>0</th>\n",
       "      <td>87.97</td>\n",
       "      <td>43</td>\n",
       "      <td>55901.12</td>\n",
       "      <td>185.46</td>\n",
       "      <td>0</td>\n",
       "      <td>0</td>\n",
       "      <td>0</td>\n",
       "      <td>1</td>\n",
       "      <td>0</td>\n",
       "      <td>0</td>\n",
       "      <td>...</td>\n",
       "      <td>0</td>\n",
       "      <td>0</td>\n",
       "      <td>0</td>\n",
       "      <td>0</td>\n",
       "      <td>0</td>\n",
       "      <td>1</td>\n",
       "      <td>0</td>\n",
       "      <td>0</td>\n",
       "      <td>0</td>\n",
       "      <td>0</td>\n",
       "    </tr>\n",
       "    <tr>\n",
       "      <th>1</th>\n",
       "      <td>51.63</td>\n",
       "      <td>50</td>\n",
       "      <td>39132.00</td>\n",
       "      <td>176.73</td>\n",
       "      <td>0</td>\n",
       "      <td>0</td>\n",
       "      <td>0</td>\n",
       "      <td>0</td>\n",
       "      <td>0</td>\n",
       "      <td>0</td>\n",
       "      <td>...</td>\n",
       "      <td>0</td>\n",
       "      <td>0</td>\n",
       "      <td>0</td>\n",
       "      <td>0</td>\n",
       "      <td>1</td>\n",
       "      <td>0</td>\n",
       "      <td>0</td>\n",
       "      <td>0</td>\n",
       "      <td>0</td>\n",
       "      <td>1</td>\n",
       "    </tr>\n",
       "    <tr>\n",
       "      <th>2</th>\n",
       "      <td>82.37</td>\n",
       "      <td>38</td>\n",
       "      <td>57032.36</td>\n",
       "      <td>210.60</td>\n",
       "      <td>0</td>\n",
       "      <td>0</td>\n",
       "      <td>0</td>\n",
       "      <td>0</td>\n",
       "      <td>0</td>\n",
       "      <td>0</td>\n",
       "      <td>...</td>\n",
       "      <td>0</td>\n",
       "      <td>0</td>\n",
       "      <td>0</td>\n",
       "      <td>0</td>\n",
       "      <td>0</td>\n",
       "      <td>0</td>\n",
       "      <td>1</td>\n",
       "      <td>0</td>\n",
       "      <td>0</td>\n",
       "      <td>0</td>\n",
       "    </tr>\n",
       "    <tr>\n",
       "      <th>3</th>\n",
       "      <td>62.06</td>\n",
       "      <td>45</td>\n",
       "      <td>48868.00</td>\n",
       "      <td>190.05</td>\n",
       "      <td>1</td>\n",
       "      <td>0</td>\n",
       "      <td>0</td>\n",
       "      <td>0</td>\n",
       "      <td>0</td>\n",
       "      <td>0</td>\n",
       "      <td>...</td>\n",
       "      <td>0</td>\n",
       "      <td>0</td>\n",
       "      <td>0</td>\n",
       "      <td>0</td>\n",
       "      <td>0</td>\n",
       "      <td>0</td>\n",
       "      <td>1</td>\n",
       "      <td>0</td>\n",
       "      <td>0</td>\n",
       "      <td>1</td>\n",
       "    </tr>\n",
       "    <tr>\n",
       "      <th>4</th>\n",
       "      <td>77.66</td>\n",
       "      <td>31</td>\n",
       "      <td>61608.23</td>\n",
       "      <td>204.86</td>\n",
       "      <td>0</td>\n",
       "      <td>0</td>\n",
       "      <td>0</td>\n",
       "      <td>1</td>\n",
       "      <td>0</td>\n",
       "      <td>0</td>\n",
       "      <td>...</td>\n",
       "      <td>0</td>\n",
       "      <td>0</td>\n",
       "      <td>0</td>\n",
       "      <td>0</td>\n",
       "      <td>0</td>\n",
       "      <td>0</td>\n",
       "      <td>0</td>\n",
       "      <td>0</td>\n",
       "      <td>1</td>\n",
       "      <td>0</td>\n",
       "    </tr>\n",
       "  </tbody>\n",
       "</table>\n",
       "<p>5 rows × 51 columns</p>\n",
       "</div>"
      ],
      "text/plain": [
       "   Time_Spent  Age  Avg_Income  Internet_Usage  Male  Ad_Topic_product_1  \\\n",
       "0       87.97   43    55901.12          185.46     0                   0   \n",
       "1       51.63   50    39132.00          176.73     0                   0   \n",
       "2       82.37   38    57032.36          210.60     0                   0   \n",
       "3       62.06   45    48868.00          190.05     1                   0   \n",
       "4       77.66   31    61608.23          204.86     0                   0   \n",
       "\n",
       "   Ad_Topic_product_10  Ad_Topic_product_11  Ad_Topic_product_12  \\\n",
       "0                    0                    1                    0   \n",
       "1                    0                    0                    0   \n",
       "2                    0                    0                    0   \n",
       "3                    0                    0                    0   \n",
       "4                    0                    1                    0   \n",
       "\n",
       "   Ad_Topic_product_13  ...  City_code_City_7  City_code_City_8  \\\n",
       "0                    0  ...                 0                 0   \n",
       "1                    0  ...                 0                 0   \n",
       "2                    0  ...                 0                 0   \n",
       "3                    0  ...                 0                 0   \n",
       "4                    0  ...                 0                 0   \n",
       "\n",
       "   City_code_City_9  Time_Period_Early-Morning  Time_Period_Evening  \\\n",
       "0                 0                          0                    0   \n",
       "1                 0                          0                    1   \n",
       "2                 0                          0                    0   \n",
       "3                 0                          0                    0   \n",
       "4                 0                          0                    0   \n",
       "\n",
       "   Time_Period_Mid-Night  Time_Period_Morning  Time_Period_Night  \\\n",
       "0                      1                    0                  0   \n",
       "1                      0                    0                  0   \n",
       "2                      0                    1                  0   \n",
       "3                      0                    1                  0   \n",
       "4                      0                    0                  0   \n",
       "\n",
       "   Time_Period_Noon  Clicked  \n",
       "0                 0        0  \n",
       "1                 0        1  \n",
       "2                 0        0  \n",
       "3                 0        1  \n",
       "4                 1        0  \n",
       "\n",
       "[5 rows x 51 columns]"
      ]
     },
     "execution_count": 41,
     "metadata": {},
     "output_type": "execute_result"
    }
   ],
   "source": [
    "Final_numData= pd.get_dummies(FinalData)\n",
    "Final_numData['Clicked']= Advertise_data['Clicked']\n",
    "Final_numData.head()"
   ]
  },
  {
   "cell_type": "code",
   "execution_count": 43,
   "metadata": {},
   "outputs": [
    {
     "data": {
      "text/plain": [
       "Index(['Time_Spent', 'Age', 'Avg_Income', 'Internet_Usage', 'Male',\n",
       "       'Ad_Topic_product_1', 'Ad_Topic_product_10', 'Ad_Topic_product_11',\n",
       "       'Ad_Topic_product_12', 'Ad_Topic_product_13', 'Ad_Topic_product_14',\n",
       "       'Ad_Topic_product_15', 'Ad_Topic_product_16', 'Ad_Topic_product_17',\n",
       "       'Ad_Topic_product_18', 'Ad_Topic_product_19', 'Ad_Topic_product_2',\n",
       "       'Ad_Topic_product_20', 'Ad_Topic_product_21', 'Ad_Topic_product_22',\n",
       "       'Ad_Topic_product_23', 'Ad_Topic_product_24', 'Ad_Topic_product_25',\n",
       "       'Ad_Topic_product_26', 'Ad_Topic_product_27', 'Ad_Topic_product_28',\n",
       "       'Ad_Topic_product_29', 'Ad_Topic_product_3', 'Ad_Topic_product_30',\n",
       "       'Ad_Topic_product_4', 'Ad_Topic_product_5', 'Ad_Topic_product_6',\n",
       "       'Ad_Topic_product_7', 'Ad_Topic_product_8', 'Ad_Topic_product_9',\n",
       "       'City_code_City_1', 'City_code_City_2', 'City_code_City_3',\n",
       "       'City_code_City_4', 'City_code_City_5', 'City_code_City_6',\n",
       "       'City_code_City_7', 'City_code_City_8', 'City_code_City_9',\n",
       "       'Time_Period_Early-Morning', 'Time_Period_Evening',\n",
       "       'Time_Period_Mid-Night', 'Time_Period_Morning', 'Time_Period_Night',\n",
       "       'Time_Period_Noon', 'Clicked'],\n",
       "      dtype='object')"
      ]
     },
     "execution_count": 43,
     "metadata": {},
     "output_type": "execute_result"
    }
   ],
   "source": [
    "Final_numData.columns"
   ]
  },
  {
   "cell_type": "code",
   "execution_count": 46,
   "metadata": {},
   "outputs": [],
   "source": [
    "TargetVariable = 'Clicked'\n",
    "Predictors = ['Time_Spent', 'Age', 'Avg_Income', 'Internet_Usage', 'Male',\n",
    "       'Ad_Topic_product_1', 'Ad_Topic_product_10', 'Ad_Topic_product_11',\n",
    "       'Ad_Topic_product_12', 'Ad_Topic_product_13', 'Ad_Topic_product_14',\n",
    "       'Ad_Topic_product_15', 'Ad_Topic_product_16', 'Ad_Topic_product_17',\n",
    "       'Ad_Topic_product_18', 'Ad_Topic_product_19', 'Ad_Topic_product_2',\n",
    "       'Ad_Topic_product_20', 'Ad_Topic_product_21', 'Ad_Topic_product_22',\n",
    "       'Ad_Topic_product_23', 'Ad_Topic_product_24', 'Ad_Topic_product_25',\n",
    "       'Ad_Topic_product_26', 'Ad_Topic_product_27', 'Ad_Topic_product_28',\n",
    "       'Ad_Topic_product_29', 'Ad_Topic_product_3', 'Ad_Topic_product_30',\n",
    "       'Ad_Topic_product_4', 'Ad_Topic_product_5', 'Ad_Topic_product_6',\n",
    "       'Ad_Topic_product_7', 'Ad_Topic_product_8', 'Ad_Topic_product_9',\n",
    "       'City_code_City_1', 'City_code_City_2', 'City_code_City_3',\n",
    "       'City_code_City_4', 'City_code_City_5', 'City_code_City_6',\n",
    "       'City_code_City_7', 'City_code_City_8', 'City_code_City_9',\n",
    "       'Time_Period_Early-Morning', 'Time_Period_Evening',\n",
    "       'Time_Period_Mid-Night', 'Time_Period_Morning', 'Time_Period_Night',\n",
    "       'Time_Period_Noon']\n",
    "\n",
    "X= Final_numData[Predictors].values\n",
    "y= Final_numData[TargetVariable].values\n",
    "\n",
    "from sklearn.model_selection import train_test_split\n",
    "\n",
    "X_train,X_test,y_train,y_test = train_test_split(X,y , test_size= 0.3, random_state=42 )"
   ]
  },
  {
   "cell_type": "code",
   "execution_count": 48,
   "metadata": {
    "scrolled": false
   },
   "outputs": [
    {
     "name": "stdout",
     "output_type": "stream",
     "text": [
      "(4659, 50)\n",
      "(1998, 50)\n",
      "(4659,)\n",
      "(1998,)\n"
     ]
    }
   ],
   "source": [
    "print(X_train.shape)\n",
    "print(X_test.shape)\n",
    "print(y_train.shape)\n",
    "print(y_test.shape)"
   ]
  },
  {
   "cell_type": "markdown",
   "metadata": {},
   "source": [
    "# Logistic Regression"
   ]
  },
  {
   "cell_type": "code",
   "execution_count": 67,
   "metadata": {},
   "outputs": [
    {
     "name": "stdout",
     "output_type": "stream",
     "text": [
      "[[940 140]\n",
      " [302 616]]\n",
      "0.7757915454839686\n",
      "              precision    recall  f1-score   support\n",
      "\n",
      "           0       0.76      0.87      0.81      1080\n",
      "           1       0.81      0.67      0.74       918\n",
      "\n",
      "    accuracy                           0.78      1998\n",
      "   macro avg       0.79      0.77      0.77      1998\n",
      "weighted avg       0.78      0.78      0.78      1998\n",
      "\n"
     ]
    }
   ],
   "source": [
    "from sklearn.linear_model import LogisticRegression\n",
    "model= LogisticRegression()\n",
    "\n",
    "model.fit(X_train, y_train)\n",
    "y_pred = model.predict(X_test)\n",
    "\n",
    "from sklearn import metrics\n",
    "from sklearn.metrics import confusion_matrix\n",
    "print(confusion_matrix(y_test,y_pred))\n",
    "\n",
    "F1_score = metrics.f1_score(y_test,y_pred, average='weighted')\n",
    "print(F1_score)\n",
    "\n",
    "print(metrics.classification_report(y_test, y_pred))\n"
   ]
  },
  {
   "cell_type": "markdown",
   "metadata": {},
   "source": [
    "# Desicion Tree"
   ]
  },
  {
   "cell_type": "code",
   "execution_count": 68,
   "metadata": {},
   "outputs": [
    {
     "name": "stdout",
     "output_type": "stream",
     "text": [
      "[[986  94]\n",
      " [ 96 822]]\n",
      "0.9048970384883556\n",
      "              precision    recall  f1-score   support\n",
      "\n",
      "           0       0.91      0.91      0.91      1080\n",
      "           1       0.90      0.90      0.90       918\n",
      "\n",
      "    accuracy                           0.90      1998\n",
      "   macro avg       0.90      0.90      0.90      1998\n",
      "weighted avg       0.90      0.90      0.90      1998\n",
      "\n"
     ]
    }
   ],
   "source": [
    "\n",
    "from sklearn import tree\n",
    "model= tree.DecisionTreeClassifier()\n",
    "\n",
    "model.fit(X_train, y_train)\n",
    "y_pred = model.predict(X_test)\n",
    "\n",
    "from sklearn import metrics\n",
    "from sklearn.metrics import confusion_matrix\n",
    "print(confusion_matrix(y_test,y_pred))\n",
    "\n",
    "F1_score = metrics.f1_score(y_test,y_pred, average='weighted')\n",
    "print(F1_score)\n",
    "\n",
    "print(metrics.classification_report(y_test, y_pred))"
   ]
  },
  {
   "cell_type": "markdown",
   "metadata": {},
   "source": [
    "# Random Forest"
   ]
  },
  {
   "cell_type": "code",
   "execution_count": 84,
   "metadata": {},
   "outputs": [
    {
     "name": "stdout",
     "output_type": "stream",
     "text": [
      "[[1053   27]\n",
      " [  88  830]]\n",
      "0.9422438374604319\n",
      "              precision    recall  f1-score   support\n",
      "\n",
      "           0       0.92      0.97      0.95      1080\n",
      "           1       0.97      0.90      0.94       918\n",
      "\n",
      "    accuracy                           0.94      1998\n",
      "   macro avg       0.95      0.94      0.94      1998\n",
      "weighted avg       0.94      0.94      0.94      1998\n",
      "\n"
     ]
    }
   ],
   "source": [
    "from sklearn.ensemble import RandomForestClassifier\n",
    "from sklearn.datasets import make_classification\n",
    "\n",
    "modell= RandomForestClassifier()\n",
    "\n",
    "modell.fit(X_train, y_train)\n",
    "y_pred = modell.predict(X_test)\n",
    "\n",
    "from sklearn import metrics\n",
    "from sklearn.metrics import confusion_matrix\n",
    "print(confusion_matrix(y_test,y_pred))\n",
    "\n",
    "F1_score = metrics.f1_score(y_test,y_pred, average='weighted')\n",
    "print(F1_score)\n",
    "\n",
    "print(metrics.classification_report(y_test, y_pred))"
   ]
  },
  {
   "cell_type": "markdown",
   "metadata": {},
   "source": [
    "## SVM"
   ]
  },
  {
   "cell_type": "code",
   "execution_count": 86,
   "metadata": {},
   "outputs": [
    {
     "name": "stdout",
     "output_type": "stream",
     "text": [
      "[[980 100]\n",
      " [460 458]]\n",
      "0.7055592177543397\n",
      "              precision    recall  f1-score   support\n",
      "\n",
      "           0       0.68      0.91      0.78      1080\n",
      "           1       0.82      0.50      0.62       918\n",
      "\n",
      "    accuracy                           0.72      1998\n",
      "   macro avg       0.75      0.70      0.70      1998\n",
      "weighted avg       0.74      0.72      0.71      1998\n",
      "\n"
     ]
    }
   ],
   "source": [
    "# Support Vector Machines(SVM)\n",
    "from sklearn import svm\n",
    "modells= svm.SVC()\n",
    "\n",
    "modells.fit(X_train, y_train)\n",
    "y_pred = modells.predict(X_test)\n",
    "\n",
    "from sklearn import metrics\n",
    "from sklearn.metrics import confusion_matrix\n",
    "print(confusion_matrix(y_test,y_pred))\n",
    "\n",
    "F1_score = metrics.f1_score(y_test,y_pred, average='weighted')\n",
    "print(F1_score)\n",
    "\n",
    "print(metrics.classification_report(y_test, y_pred))\n",
    "\n"
   ]
  },
  {
   "cell_type": "code",
   "execution_count": 93,
   "metadata": {},
   "outputs": [
    {
     "name": "stdout",
     "output_type": "stream",
     "text": [
      "[[1054   26]\n",
      " [  93  825]]\n",
      "0.9402084801132868\n",
      "              precision    recall  f1-score   support\n",
      "\n",
      "           0       0.92      0.98      0.95      1080\n",
      "           1       0.97      0.90      0.93       918\n",
      "\n",
      "    accuracy                           0.94      1998\n",
      "   macro avg       0.94      0.94      0.94      1998\n",
      "weighted avg       0.94      0.94      0.94      1998\n",
      "\n",
      "\n",
      "Accuracy values for 10-fold Cross Validation:\n",
      " [0.94731613 0.91046301 0.93808219 0.94570242 0.93509584 0.96228409\n",
      " 0.94719772 0.95176713 0.95320376 0.95478465]\n",
      "\n",
      "Final Average Accuracy of the model: 0.94\n"
     ]
    },
    {
     "data": {
      "text/plain": [
       "<matplotlib.axes._subplots.AxesSubplot at 0x1da019685c8>"
      ]
     },
     "execution_count": 93,
     "metadata": {},
     "output_type": "execute_result"
    },
    {
     "data": {
      "image/png": "[encoded data removed]",
      "text/plain": [
       "<Figure size 432x288 with 1 Axes>"
      ]
     },
     "metadata": {
      "needs_background": "light"
     },
     "output_type": "display_data"
    }
   ],
   "source": [
    "from sklearn.ensemble import AdaBoostClassifier\n",
    "modell= AdaBoostClassifier()\n",
    "\n",
    "AB= modell.fit(X_train, y_train)\n",
    "y_pred = modell.predict(X_test)\n",
    "\n",
    "from sklearn import metrics\n",
    "from sklearn.metrics import confusion_matrix\n",
    "print(confusion_matrix(y_test,y_pred))\n",
    "\n",
    "F1_score = metrics.f1_score(y_test,y_pred, average='weighted')\n",
    "print(F1_score)\n",
    "\n",
    "print(metrics.classification_report(y_test, y_pred))\n",
    "\n",
    "\n",
    "from sklearn.model_selection import cross_val_score\n",
    "\n",
    "# Running 10-Fold Cross validation on a given algorithm\n",
    "# Passing full data X and y because the K-fold will split the data and automatically choose train/test\n",
    "Accuracy_Values=cross_val_score(AB, X , y, cv=10, scoring='f1_weighted')\n",
    "print('\\nAccuracy values for 10-fold Cross Validation:\\n',Accuracy_Values)\n",
    "print('\\nFinal Average Accuracy of the model:', round(Accuracy_Values.mean(),2))\n",
    "\n",
    "\n",
    "\n",
    "%matplotlib inline\n",
    "imp_feature = pd.Series(AB.feature_importances_, index = Predictors)\n",
    "imp_feature.nlargest(10).plot(kind='barh')"
   ]
  },
  {
   "cell_type": "markdown",
   "metadata": {},
   "source": [
    "WE CAN SEE THAT RANDOM FOREST GIVE THE BEST RESULT. And TIME_SPENT, INTERNET_USAGE, AVG_INCOME AND AGE ARE THE MAJOR FACTOR IN PREDICTING IF A PERSON WILL CLICK ON THE THE ADD OR NOT"
   ]
  },
  {
   "cell_type": "code",
   "execution_count": null,
   "metadata": {},
   "outputs": [],
   "source": []
  }
 ],
 "metadata": {
  "kernelspec": {
   "display_name": "Python 3",
   "language": "python",
   "name": "python3"
  },
  "language_info": {
   "codemirror_mode": {
    "name": "ipython",
    "version": 3
   },
   "file_extension": ".py",
   "mimetype": "text/x-python",
   "name": "python",
   "nbconvert_exporter": "python",
   "pygments_lexer": "ipython3",
   "version": "3.7.6"
  }
 },
 "nbformat": 4,
 "nbformat_minor": 4
}
